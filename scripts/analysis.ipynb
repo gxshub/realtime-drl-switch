{
 "cells": [
  {
   "cell_type": "code",
   "execution_count": 89,
   "id": "a07776f1-12b7-4ef0-b748-a057a62003ee",
   "metadata": {},
   "outputs": [],
   "source": [
    "import os\n",
    "input_dir = os.getcwd() + \"/out/highway_env_continuous_actions/experiment/v2\""
   ]
  },
  {
   "cell_type": "markdown",
   "id": "27493eb1-7e76-4a71-82f7-3467b1b16f0a",
   "metadata": {},
   "source": [
    "Marked"
   ]
  },
  {
   "cell_type": "code",
   "execution_count": 347,
   "id": "f1d73afc-9748-45f1-983e-20fb75681f67",
   "metadata": {},
   "outputs": [
    {
     "name": "stdout",
     "output_type": "stream",
     "text": [
      "HEADWAY_THRESH = 6.4737\n",
      "TTC_THRESH = 77.2788\n"
     ]
    }
   ],
   "source": [
    "import ast\n",
    "def _extract_config(lines):\n",
    "    switch_config_target = \"Switch configurations:\"\n",
    "    pctrl_only_target = \"'--pctrl-only'\"\n",
    "    data = {}\n",
    "    found_switch_config = False\n",
    "    for _, line in enumerate(lines):\n",
    "        if pctrl_only_target in line:\n",
    "            pctrl_only_str = line.strip().replace(\"--\", \"\").split(':')[1].strip()\n",
    "            pctrl_only = ast.literal_eval(pctrl_only_str)\n",
    "            data['pctrl_only'] = pctrl_only[0]\n",
    "        elif switch_config_target in line:\n",
    "            found_switch_config = True\n",
    "        elif found_switch_config:\n",
    "            # Safely evaluate the config string to a Python list containing a dictionary\n",
    "            item_list = ast.literal_eval(line)\n",
    "            if isinstance(item_list, list) and len(item_list) > 0 and isinstance(item_list[0], dict):\n",
    "                record = item_list[0]\n",
    "                ctrl_id = record.get('ctrl_id')\n",
    "                thresh = record.get('thresh', {})\n",
    "                time_delay = thresh.get('time_delay')\n",
    "                cross_lane_headway = thresh.get('cross_lane_headway')\n",
    "                data['ctrl_id'] = ctrl_id\n",
    "                data['time_delay'] = time_delay\n",
    "                data['cross_lane_headway'] = cross_lane_headway        \n",
    "            found_switch_config = False  \n",
    "    return data\n",
    "\n",
    "def _extract_switch_probs(lines):\n",
    "    _dict = {}\n",
    "    for line in lines:\n",
    "        if line.startswith(\"[probabilities]\"):\n",
    "            # Use regular expression to find all numbers in the line\n",
    "            numbers_str = re.findall(r\"[-+]?\\d*\\.\\d+|\\d+\", line)\n",
    "            if len(numbers_str) >= 2:\n",
    "                try:\n",
    "                    _dict[\"prob_to_pri_ctrl\"] = float(numbers_str[0])\n",
    "                    _dict[\"prob_to_sec_ctrl\"] = float(numbers_str[0])\n",
    "                except ValueError:\n",
    "                    print(f\"Warning: Could not convert first two elements to numbers in line: {line.strip()}\")\n",
    "    return _dict\n",
    "\n",
    "def _extract_exit_probs(lines):\n",
    "    _dict = {}\n",
    "    for line in lines:\n",
    "        if line.startswith(\"[counts]\"):\n",
    "            # Use regular expression to find all numbers in the line\n",
    "            numbers_str = re.findall(r\"[-+]?\\d*\\.\\d+|\\d+\", line)\n",
    "            if len(numbers_str) >= 3:\n",
    "                try:\n",
    "                    num1 = int(numbers_str[1])\n",
    "                    num2 = int(numbers_str[2])\n",
    "                    if num1 * num2 < 0 or num1 + num2 <= 0:\n",
    "                        raise ValueError(\"Both counts must be non-negative and at least one count must be positive\")\n",
    "                    p = num1 / float(num1 + num2)\n",
    "                    _dict[\"prob_to_exit_sec_ctrl\"] = p\n",
    "                    _dict[\"prob_to_stay_in_sec_ctrl\"] = 1 - p\n",
    "                except ValueError:\n",
    "                    print(f\"Warning: Could not convert first three elements to numbers in line: {line.strip()}\")\n",
    "    return _dict\n",
    "\n",
    "def _extract_data_to_dataframe(lines):\n",
    "    extracted_data = [] \n",
    "    for line in lines:\n",
    "        if line.startswith(\"[data]\"):\n",
    "                data_part = line[len(\"[data]\"):].strip()\n",
    "                pairs = data_part.split(', ')\n",
    "                data_dict = {}\n",
    "                for pair in pairs:\n",
    "                    if ':' in pair:\n",
    "                        key, value = pair.split(': ', 1)\n",
    "                        data_dict[key.strip()] = value.strip()\n",
    "                extracted_data.append(data_dict)\n",
    "    if extracted_data:\n",
    "        df = pd.DataFrame(extracted_data)\n",
    "        df['headway'] = df['headway'].astype('float')\n",
    "        # df['cross_lane_headway'] = df['cross_lane_headway'].astype('float')\n",
    "        df['ttc'] = df['ttc'].astype('float')\n",
    "        def bool_str_to_num(x):\n",
    "            if x=='True':\n",
    "                return 1  \n",
    "            else:\n",
    "                return 0\n",
    "        df['on lane'] = df['on lane'].apply(bool_str_to_num)\n",
    "        df = df.drop(['cross_lane_headway'], axis=1)\n",
    "        return df\n",
    "    else:\n",
    "        raise ValueError(\"Empty data\")  # Return an empty DataFrame\n",
    "\n",
    "HEADWAY_THRESH = 6.4737\n",
    "TTC_THRESH = 77.2788\n",
    "print(f\"HEADWAY_THRESH = {HEADWAY_THRESH}\")\n",
    "print(f\"TTC_THRESH = {TTC_THRESH}\")\n",
    "\n",
    "def _extract_data_statistics(lines, headway_thresh=HEADWAY_THRESH, ttc_thresh=TTC_THRESH):\n",
    "    df = _extract_data_to_dataframe(lines)\n",
    "    n_rows = len(df)\n",
    "    proportions = {}\n",
    "\n",
    "    for val3 in [0, 1]:\n",
    "        for op2 in ['le', 'gt']:\n",
    "            for op1 in ['le', 'gt']:\n",
    "                subset_name = f\"headway_{op1}_ttc_{op2}_on_lane_{val3}\"\n",
    "\n",
    "                condition1 = (df.iloc[:, 0] <= headway_thresh) if op1 == 'le' else (df.iloc[:, 0] > headway_thresh)\n",
    "                condition2 = (df.iloc[:, 1] <= ttc_thresh) if op2 == 'le' else (df.iloc[:, 1] > ttc_thresh)\n",
    "                condition3 = (df.iloc[:, 2] == val3)\n",
    "\n",
    "                subset = df[condition1 & condition2 & condition3]\n",
    "                proportions[subset_name] = len(subset) / n_rows if n_rows > 0 else 0.0\n",
    "\n",
    "    return proportions\n"
   ]
  },
  {
   "cell_type": "code",
   "execution_count": 348,
   "id": "7d12cbc7-fd01-4d10-89a1-98f3082157a9",
   "metadata": {},
   "outputs": [
    {
     "data": {
      "text/html": [
       "<div>\n",
       "<style scoped>\n",
       "    .dataframe tbody tr th:only-of-type {\n",
       "        vertical-align: middle;\n",
       "    }\n",
       "\n",
       "    .dataframe tbody tr th {\n",
       "        vertical-align: top;\n",
       "    }\n",
       "\n",
       "    .dataframe thead th {\n",
       "        text-align: right;\n",
       "    }\n",
       "</style>\n",
       "<table border=\"1\" class=\"dataframe\">\n",
       "  <thead>\n",
       "    <tr style=\"text-align: right;\">\n",
       "      <th></th>\n",
       "      <th>pctrl_only</th>\n",
       "      <th>ctrl_id</th>\n",
       "      <th>time_delay</th>\n",
       "      <th>cross_lane_headway</th>\n",
       "      <th>prob_to_pri_ctrl</th>\n",
       "      <th>prob_to_sec_ctrl</th>\n",
       "      <th>prob_to_exit_sec_ctrl</th>\n",
       "      <th>prob_to_stay_in_sec_ctrl</th>\n",
       "      <th>headway_le_ttc_le_on_lane_0</th>\n",
       "      <th>headway_gt_ttc_le_on_lane_0</th>\n",
       "      <th>headway_le_ttc_gt_on_lane_0</th>\n",
       "      <th>headway_gt_ttc_gt_on_lane_0</th>\n",
       "      <th>headway_le_ttc_le_on_lane_1</th>\n",
       "      <th>headway_gt_ttc_le_on_lane_1</th>\n",
       "      <th>headway_le_ttc_gt_on_lane_1</th>\n",
       "      <th>headway_gt_ttc_gt_on_lane_1</th>\n",
       "    </tr>\n",
       "  </thead>\n",
       "  <tbody>\n",
       "    <tr>\n",
       "      <th>0</th>\n",
       "      <td>False</td>\n",
       "      <td>ctrl_1</td>\n",
       "      <td>0.1</td>\n",
       "      <td>4.0</td>\n",
       "      <td>0.393487</td>\n",
       "      <td>0.393487</td>\n",
       "      <td>0.445115</td>\n",
       "      <td>0.554885</td>\n",
       "      <td>0.027858</td>\n",
       "      <td>0.011110</td>\n",
       "      <td>0.065614</td>\n",
       "      <td>0.137911</td>\n",
       "      <td>0.177527</td>\n",
       "      <td>0.033780</td>\n",
       "      <td>0.232539</td>\n",
       "      <td>0.313661</td>\n",
       "    </tr>\n",
       "    <tr>\n",
       "      <th>1</th>\n",
       "      <td>False</td>\n",
       "      <td>ctrl_1</td>\n",
       "      <td>0.2</td>\n",
       "      <td>4.0</td>\n",
       "      <td>0.610740</td>\n",
       "      <td>0.610740</td>\n",
       "      <td>0.299117</td>\n",
       "      <td>0.700883</td>\n",
       "      <td>0.049800</td>\n",
       "      <td>0.012803</td>\n",
       "      <td>0.067793</td>\n",
       "      <td>0.097638</td>\n",
       "      <td>0.283774</td>\n",
       "      <td>0.027625</td>\n",
       "      <td>0.275354</td>\n",
       "      <td>0.185213</td>\n",
       "    </tr>\n",
       "    <tr>\n",
       "      <th>2</th>\n",
       "      <td>False</td>\n",
       "      <td>ctrl_2</td>\n",
       "      <td>0.1</td>\n",
       "      <td>4.0</td>\n",
       "      <td>0.393487</td>\n",
       "      <td>0.393487</td>\n",
       "      <td>0.397167</td>\n",
       "      <td>0.602833</td>\n",
       "      <td>0.026328</td>\n",
       "      <td>0.009655</td>\n",
       "      <td>0.062339</td>\n",
       "      <td>0.135904</td>\n",
       "      <td>0.177445</td>\n",
       "      <td>0.033681</td>\n",
       "      <td>0.236920</td>\n",
       "      <td>0.317728</td>\n",
       "    </tr>\n",
       "    <tr>\n",
       "      <th>4</th>\n",
       "      <td>False</td>\n",
       "      <td>ctrl_2</td>\n",
       "      <td>0.2</td>\n",
       "      <td>4.0</td>\n",
       "      <td>0.610740</td>\n",
       "      <td>0.610740</td>\n",
       "      <td>0.307680</td>\n",
       "      <td>0.692320</td>\n",
       "      <td>0.046163</td>\n",
       "      <td>0.011092</td>\n",
       "      <td>0.066956</td>\n",
       "      <td>0.097365</td>\n",
       "      <td>0.293107</td>\n",
       "      <td>0.024298</td>\n",
       "      <td>0.273791</td>\n",
       "      <td>0.187228</td>\n",
       "    </tr>\n",
       "    <tr>\n",
       "      <th>3</th>\n",
       "      <td>True</td>\n",
       "      <td>ctrl_1</td>\n",
       "      <td>0.2</td>\n",
       "      <td>4.0</td>\n",
       "      <td>0.610740</td>\n",
       "      <td>0.610740</td>\n",
       "      <td>NaN</td>\n",
       "      <td>NaN</td>\n",
       "      <td>0.084886</td>\n",
       "      <td>0.006366</td>\n",
       "      <td>0.044151</td>\n",
       "      <td>0.018513</td>\n",
       "      <td>0.362407</td>\n",
       "      <td>0.009928</td>\n",
       "      <td>0.368948</td>\n",
       "      <td>0.104801</td>\n",
       "    </tr>\n",
       "  </tbody>\n",
       "</table>\n",
       "</div>"
      ],
      "text/plain": [
       "   pctrl_only ctrl_id  time_delay  cross_lane_headway  prob_to_pri_ctrl  \\\n",
       "0       False  ctrl_1         0.1                 4.0          0.393487   \n",
       "1       False  ctrl_1         0.2                 4.0          0.610740   \n",
       "2       False  ctrl_2         0.1                 4.0          0.393487   \n",
       "4       False  ctrl_2         0.2                 4.0          0.610740   \n",
       "3        True  ctrl_1         0.2                 4.0          0.610740   \n",
       "\n",
       "   prob_to_sec_ctrl  prob_to_exit_sec_ctrl  prob_to_stay_in_sec_ctrl  \\\n",
       "0          0.393487               0.445115                  0.554885   \n",
       "1          0.610740               0.299117                  0.700883   \n",
       "2          0.393487               0.397167                  0.602833   \n",
       "4          0.610740               0.307680                  0.692320   \n",
       "3          0.610740                    NaN                       NaN   \n",
       "\n",
       "   headway_le_ttc_le_on_lane_0  headway_gt_ttc_le_on_lane_0  \\\n",
       "0                     0.027858                     0.011110   \n",
       "1                     0.049800                     0.012803   \n",
       "2                     0.026328                     0.009655   \n",
       "4                     0.046163                     0.011092   \n",
       "3                     0.084886                     0.006366   \n",
       "\n",
       "   headway_le_ttc_gt_on_lane_0  headway_gt_ttc_gt_on_lane_0  \\\n",
       "0                     0.065614                     0.137911   \n",
       "1                     0.067793                     0.097638   \n",
       "2                     0.062339                     0.135904   \n",
       "4                     0.066956                     0.097365   \n",
       "3                     0.044151                     0.018513   \n",
       "\n",
       "   headway_le_ttc_le_on_lane_1  headway_gt_ttc_le_on_lane_1  \\\n",
       "0                     0.177527                     0.033780   \n",
       "1                     0.283774                     0.027625   \n",
       "2                     0.177445                     0.033681   \n",
       "4                     0.293107                     0.024298   \n",
       "3                     0.362407                     0.009928   \n",
       "\n",
       "   headway_le_ttc_gt_on_lane_1  headway_gt_ttc_gt_on_lane_1  \n",
       "0                     0.232539                     0.313661  \n",
       "1                     0.275354                     0.185213  \n",
       "2                     0.236920                     0.317728  \n",
       "4                     0.273791                     0.187228  \n",
       "3                     0.368948                     0.104801  "
      ]
     },
     "execution_count": 348,
     "metadata": {},
     "output_type": "execute_result"
    }
   ],
   "source": [
    "import os\n",
    "input_dir = os.getcwd() + \"/out/highway_env_continuous_actions/experiment/run2\"\n",
    "list_of_dicts = []\n",
    "directory = input_dir\n",
    "for root, _, files in os.walk(directory):\n",
    "        for file in files:\n",
    "            if file.endswith(\".txt\"):\n",
    "                file_path = os.path.join(root, file)\n",
    "                try:\n",
    "                    with open(file_path, 'r') as f:\n",
    "                        lines = f.readlines()\n",
    "                        _dict = _extract_config(lines)\n",
    "                        _dict.update(_extract_switch_probs(lines))\n",
    "                        _dict.update(_extract_exit_probs(lines))\n",
    "                        _dict.update(_extract_data_statistics(lines))\n",
    "                        list_of_dicts.append(_dict)\n",
    "                except Exception as e:\n",
    "                    print(f\"Error reading file {file_path}: {e}\")\n",
    "import pandas as pd\n",
    "pd.DataFrame(list_of_dicts).sort_values(by=\"pctrl_only\", ascending=True)"
   ]
  },
  {
   "cell_type": "code",
   "execution_count": 277,
   "id": "141e3cec-b8a7-48d2-9bf8-46b60d1c1afe",
   "metadata": {},
   "outputs": [],
   "source": [
    "import re\n",
    "def _extract_probabilities(file_path):\n",
    "    try:\n",
    "        with open(file_path, 'r') as f:\n",
    "            for line in f:\n",
    "                if line.startswith(\"[probabilities]\"):\n",
    "                    # Use regular expression to find all numbers in the line\n",
    "                    numbers_str = re.findall(r\"[-+]?\\d*\\.\\d+|\\d+\", line)\n",
    "                    if len(numbers_str) >= 2:\n",
    "                        try:\n",
    "                            num1 = float(numbers_str[0])\n",
    "                            num2 = float(numbers_str[1])\n",
    "                            return {\"to_pri_ctrl\": num1, \"to_sec_ctrl\": num2}\n",
    "                        except ValueError:\n",
    "                            print(f\"Warning: Could not convert first two elements to numbers in line: {line.strip()}\")\n",
    "    except FileNotFoundError:\n",
    "        print(f\"Error: File not found at path: {file_path}\")\n",
    "    except Exception as e:\n",
    "        print(f\"An error occurred: {e}\")"
   ]
  },
  {
   "cell_type": "code",
   "execution_count": 278,
   "id": "0fafb80d-427e-41eb-94d7-48eade66ad70",
   "metadata": {},
   "outputs": [
    {
     "data": {
      "text/plain": [
       "{'to_pri_ctrl': 0.22120925981345352, 'to_sec_ctrl': 0.6065127954211831}"
      ]
     },
     "execution_count": 278,
     "metadata": {},
     "output_type": "execute_result"
    }
   ],
   "source": [
    "import os\n",
    "# file = os.getcwd() + \"/out/highway_env_continuous_actions/experiment/20250410_201541/\" + \"log.txt\"\n",
    "file = os.getcwd() + \"/out/highway_env_continuous_actions/experiment/20250411_162613/\" + \"log.txt\"\n",
    "_extract_probabilities(file)"
   ]
  },
  {
   "cell_type": "code",
   "execution_count": 173,
   "id": "4ede53b2-4d58-4f3b-8f84-33268dfb4a98",
   "metadata": {},
   "outputs": [
    {
     "name": "stdout",
     "output_type": "stream",
     "text": [
      "\n"
     ]
    },
    {
     "name": "stdin",
     "output_type": "stream",
     "text": [
      "Once deleted, variables cannot be recovered. Proceed (y/[n])?  n\n"
     ]
    },
    {
     "name": "stdout",
     "output_type": "stream",
     "text": [
      "Nothing done.\n"
     ]
    },
    {
     "name": "stdin",
     "output_type": "stream",
     "text": [
      "Once deleted, variables cannot be recovered. Proceed (y/[n])?  n\n"
     ]
    }
   ],
   "source": [
    "# %reset"
   ]
  },
  {
   "cell_type": "markdown",
   "id": "5255dc53-d3e0-4447-9211-79d2f6138b67",
   "metadata": {},
   "source": [
    "marked 2"
   ]
  },
  {
   "cell_type": "code",
   "execution_count": 250,
   "id": "56c31e71-4826-44aa-af5c-ca68462f822e",
   "metadata": {},
   "outputs": [],
   "source": [
    "import pandas as pd\n",
    "\n",
    "def extract_data_to_dataframe(input_file):\n",
    "    \"\"\"\n",
    "    Extracts lines starting with '[data]' from a text file,\n",
    "    parses the key-value pairs, and returns a pandas DataFrame.\n",
    "\n",
    "    Args:\n",
    "        input_file (str): Path to the input text file.\n",
    "\n",
    "    Returns:\n",
    "        pandas.DataFrame: A DataFrame containing the extracted data.\n",
    "                          Returns an empty DataFrame if no matching lines are found\n",
    "                          or if there's an error.\n",
    "    \"\"\"\n",
    "    extracted_data = []\n",
    "    try:\n",
    "        with open(input_file, 'r') as infile:\n",
    "            for line in infile:\n",
    "                if line.startswith(\"[data]\"):\n",
    "                    data_part = line[len(\"[data]\"):].strip()\n",
    "                    pairs = data_part.split(', ')\n",
    "                    data_dict = {}\n",
    "                    for pair in pairs:\n",
    "                        if ':' in pair:\n",
    "                            key, value = pair.split(': ', 1)\n",
    "                            data_dict[key.strip()] = value.strip()\n",
    "                    extracted_data.append(data_dict)\n",
    "\n",
    "        if extracted_data:\n",
    "            df = pd.DataFrame(extracted_data)\n",
    "            return df\n",
    "        else:\n",
    "            return pd.DataFrame()  # Return an empty DataFrame\n",
    "\n",
    "    except FileNotFoundError:\n",
    "        print(f\"Error: Input file '{input_file}' not found.\")\n",
    "        return pd.DataFrame()\n",
    "    except Exception as e:\n",
    "        print(f\"An error occurred: {e}\")\n",
    "        return pd.DataFrame()"
   ]
  },
  {
   "cell_type": "code",
   "execution_count": 251,
   "id": "40846902-ee82-41e5-936a-04aac2e5ea5c",
   "metadata": {},
   "outputs": [],
   "source": [
    "import os\n",
    "# file = os.getcwd() + \"/out/highway_env_continuous_actions/experiment/20250410_201541/\" + \"log.txt\"\n",
    "file = os.getcwd() + \"/out/highway_env_continuous_actions/experiment/20250411_162613/\" + \"log.txt\"\n",
    "df = extract_data_to_dataframe(file)\n",
    "df['headway'] = df['headway'].astype('float')\n",
    "# df['cross_lane_headway'] = df['cross_lane_headway'].astype('float')\n",
    "df['ttc'] = df['ttc'].astype('float')\n",
    "def bool_str_to_num(x):\n",
    "    if x=='True':\n",
    "        return 1  \n",
    "    else:\n",
    "        return 0\n",
    "df['on lane'] = df['on lane'].apply(bool_str_to_num)\n",
    "df = df.drop(['cross_lane_headway'], axis=1)"
   ]
  },
  {
   "cell_type": "code",
   "execution_count": 256,
   "id": "33de0b6e-5803-4e2e-a527-c05230dd9660",
   "metadata": {},
   "outputs": [
    {
     "data": {
      "text/plain": [
       "(6.4737, 77.2788)"
      ]
     },
     "execution_count": 256,
     "metadata": {},
     "output_type": "execute_result"
    }
   ],
   "source": [
    "(df['headway'].median(), df['ttc'].quantile(0.25))"
   ]
  },
  {
   "cell_type": "code",
   "execution_count": 271,
   "id": "e9d41406-b810-47f5-b382-0be3a737d758",
   "metadata": {},
   "outputs": [],
   "source": [
    "def calculate_subset_proportions(df, headway_thresh, ttc_thresh):\n",
    "    n_rows = len(df)\n",
    "    proportions = {}\n",
    "\n",
    "    for val3 in [0, 1]:\n",
    "        for op2 in ['le', 'gt']:\n",
    "            for op1 in ['le', 'gt']:\n",
    "                subset_name = f\"headway_{op1}_{headway_thresh}_ttc_{op2}_{ttc_thresh}_on_lane_{val3}\"\n",
    "\n",
    "                condition1 = (df.iloc[:, 0] <= headway_thresh) if op1 == 'le' else (df.iloc[:, 0] > headway_thresh)\n",
    "                condition2 = (df.iloc[:, 1] <= ttc_thresh) if op2 == 'le' else (df.iloc[:, 1] > ttc_thresh)\n",
    "                condition3 = (df.iloc[:, 2] == val3)\n",
    "\n",
    "                subset = df[condition1 & condition2 & condition3]\n",
    "                proportions[subset_name] = len(subset) / n_rows if n_rows > 0 else 0.0\n",
    "\n",
    "    return proportions"
   ]
  },
  {
   "cell_type": "code",
   "execution_count": 272,
   "id": "b2b571b2-61f6-46a5-a95f-fed4fe6fa01a",
   "metadata": {},
   "outputs": [
    {
     "data": {
      "text/plain": [
       "{'headway_le_6.4737_headway_le_77.2788_on_lane_0': 0.027742713680608152,\n",
       " 'headway_gt_6.4737_headway_le_77.2788_on_lane_0': 0.010968049594659036,\n",
       " 'headway_le_6.4737_headway_gt_77.2788_on_lane_0': 0.06440573368116918,\n",
       " 'headway_gt_6.4737_headway_gt_77.2788_on_lane_0': 0.13178490280232263,\n",
       " 'headway_le_6.4737_headway_le_77.2788_on_lane_1': 0.1762181267356728,\n",
       " 'headway_gt_6.4737_headway_le_77.2788_on_lane_1': 0.035092148447361776,\n",
       " 'headway_le_6.4737_headway_gt_77.2788_on_lane_1': 0.23167550281915342,\n",
       " 'headway_gt_6.4737_headway_gt_77.2788_on_lane_1': 0.32211282223905296}"
      ]
     },
     "execution_count": 272,
     "metadata": {},
     "output_type": "execute_result"
    }
   ],
   "source": [
    "calculate_subset_proportions(df, 6.4737, 77.2788)"
   ]
  },
  {
   "cell_type": "code",
   "execution_count": 48,
   "id": "d7d7dc81-d441-460e-acfd-e93cc976b866",
   "metadata": {},
   "outputs": [
    {
     "data": {
      "text/html": [
       "<div>\n",
       "<style scoped>\n",
       "    .dataframe tbody tr th:only-of-type {\n",
       "        vertical-align: middle;\n",
       "    }\n",
       "\n",
       "    .dataframe tbody tr th {\n",
       "        vertical-align: top;\n",
       "    }\n",
       "\n",
       "    .dataframe thead th {\n",
       "        text-align: right;\n",
       "    }\n",
       "</style>\n",
       "<table border=\"1\" class=\"dataframe\">\n",
       "  <thead>\n",
       "    <tr style=\"text-align: right;\">\n",
       "      <th></th>\n",
       "      <th>headway</th>\n",
       "      <th>cross_lane_headway</th>\n",
       "      <th>ttc</th>\n",
       "      <th>on lane</th>\n",
       "    </tr>\n",
       "  </thead>\n",
       "  <tbody>\n",
       "    <tr>\n",
       "      <th>0</th>\n",
       "      <td>0.9272</td>\n",
       "      <td>0.927185</td>\n",
       "      <td>inf</td>\n",
       "      <td>0</td>\n",
       "    </tr>\n",
       "    <tr>\n",
       "      <th>1</th>\n",
       "      <td>5.3966</td>\n",
       "      <td>1.067731</td>\n",
       "      <td>283.3013</td>\n",
       "      <td>1</td>\n",
       "    </tr>\n",
       "    <tr>\n",
       "      <th>2</th>\n",
       "      <td>9.0450</td>\n",
       "      <td>1.141168</td>\n",
       "      <td>3755.6514</td>\n",
       "      <td>1</td>\n",
       "    </tr>\n",
       "    <tr>\n",
       "      <th>3</th>\n",
       "      <td>9.3800</td>\n",
       "      <td>1.213120</td>\n",
       "      <td>inf</td>\n",
       "      <td>1</td>\n",
       "    </tr>\n",
       "    <tr>\n",
       "      <th>4</th>\n",
       "      <td>6.2088</td>\n",
       "      <td>1.306240</td>\n",
       "      <td>3203.6357</td>\n",
       "      <td>1</td>\n",
       "    </tr>\n",
       "    <tr>\n",
       "      <th>...</th>\n",
       "      <td>...</td>\n",
       "      <td>...</td>\n",
       "      <td>...</td>\n",
       "      <td>...</td>\n",
       "    </tr>\n",
       "    <tr>\n",
       "      <th>35644</th>\n",
       "      <td>7.0721</td>\n",
       "      <td>6.131449</td>\n",
       "      <td>51.3397</td>\n",
       "      <td>1</td>\n",
       "    </tr>\n",
       "    <tr>\n",
       "      <th>35645</th>\n",
       "      <td>4.9349</td>\n",
       "      <td>4.898515</td>\n",
       "      <td>17.7554</td>\n",
       "      <td>1</td>\n",
       "    </tr>\n",
       "    <tr>\n",
       "      <th>35646</th>\n",
       "      <td>3.8916</td>\n",
       "      <td>3.886544</td>\n",
       "      <td>10.0707</td>\n",
       "      <td>1</td>\n",
       "    </tr>\n",
       "    <tr>\n",
       "      <th>35647</th>\n",
       "      <td>4.7832</td>\n",
       "      <td>4.116016</td>\n",
       "      <td>16.0853</td>\n",
       "      <td>1</td>\n",
       "    </tr>\n",
       "    <tr>\n",
       "      <th>35648</th>\n",
       "      <td>5.3906</td>\n",
       "      <td>4.613325</td>\n",
       "      <td>31.9008</td>\n",
       "      <td>1</td>\n",
       "    </tr>\n",
       "  </tbody>\n",
       "</table>\n",
       "<p>35649 rows × 4 columns</p>\n",
       "</div>"
      ],
      "text/plain": [
       "       headway  cross_lane_headway        ttc  on lane\n",
       "0       0.9272            0.927185        inf        0\n",
       "1       5.3966            1.067731   283.3013        1\n",
       "2       9.0450            1.141168  3755.6514        1\n",
       "3       9.3800            1.213120        inf        1\n",
       "4       6.2088            1.306240  3203.6357        1\n",
       "...        ...                 ...        ...      ...\n",
       "35644   7.0721            6.131449    51.3397        1\n",
       "35645   4.9349            4.898515    17.7554        1\n",
       "35646   3.8916            3.886544    10.0707        1\n",
       "35647   4.7832            4.116016    16.0853        1\n",
       "35648   5.3906            4.613325    31.9008        1\n",
       "\n",
       "[35649 rows x 4 columns]"
      ]
     },
     "execution_count": 48,
     "metadata": {},
     "output_type": "execute_result"
    }
   ],
   "source": [
    "df"
   ]
  },
  {
   "cell_type": "code",
   "execution_count": 44,
   "id": "9dbf1353-d34f-4681-8bbd-d426ca6b7829",
   "metadata": {},
   "outputs": [
    {
     "data": {
      "text/plain": [
       "headway               float32\n",
       "cross_lane_headway    float32\n",
       "ttc                   float32\n",
       "on lane                 int64\n",
       "dtype: object"
      ]
     },
     "execution_count": 44,
     "metadata": {},
     "output_type": "execute_result"
    }
   ],
   "source": [
    "df.dtypes"
   ]
  },
  {
   "cell_type": "code",
   "execution_count": 37,
   "id": "932a89e5-4360-4fd5-8227-920444486388",
   "metadata": {},
   "outputs": [
    {
     "data": {
      "text/plain": [
       "True"
      ]
     },
     "execution_count": 37,
     "metadata": {},
     "output_type": "execute_result"
    }
   ],
   "source": [
    "df['on lane'][0]"
   ]
  },
  {
   "cell_type": "code",
   "execution_count": null,
   "id": "291d659b-e45c-4176-8386-a6c3a099bd11",
   "metadata": {},
   "outputs": [],
   "source": [
    "condition1 = df['headway'] < 3 & df['ttc']< 3 & t['"
   ]
  },
  {
   "cell_type": "code",
   "execution_count": 193,
   "id": "313150aa-e298-4bfc-8b45-51d1dae2505e",
   "metadata": {},
   "outputs": [
    {
     "data": {
      "text/plain": [
       "float"
      ]
     },
     "execution_count": 193,
     "metadata": {},
     "output_type": "execute_result"
    }
   ],
   "source": [
    "type(1.0)"
   ]
  },
  {
   "cell_type": "code",
   "execution_count": 195,
   "id": "f9c477da-e272-4cea-bca6-873cd7b8a121",
   "metadata": {},
   "outputs": [
    {
     "data": {
      "text/plain": [
       "True"
      ]
     },
     "execution_count": 195,
     "metadata": {},
     "output_type": "execute_result"
    }
   ],
   "source": [
    "type(1.0) == float"
   ]
  },
  {
   "cell_type": "code",
   "execution_count": null,
   "id": "01297e28-7b62-45cc-ae10-840495c04d76",
   "metadata": {},
   "outputs": [],
   "source": []
  }
 ],
 "metadata": {
  "kernelspec": {
   "display_name": "Python 3 (ipykernel)",
   "language": "python",
   "name": "python3"
  },
  "language_info": {
   "codemirror_mode": {
    "name": "ipython",
    "version": 3
   },
   "file_extension": ".py",
   "mimetype": "text/x-python",
   "name": "python",
   "nbconvert_exporter": "python",
   "pygments_lexer": "ipython3",
   "version": "3.8.10"
  }
 },
 "nbformat": 4,
 "nbformat_minor": 5
}
