{
 "cells": [
  {
   "cell_type": "code",
   "execution_count": 5,
   "id": "64ecf0cd-3279-4a51-94e1-59a038d673bf",
   "metadata": {},
   "outputs": [
    {
     "name": "stdout",
     "output_type": "stream",
     "text": [
      "wrote property to file: dive_and_rise_prop_10.props\n"
     ]
    }
   ],
   "source": [
    "! python ./dive_and_rise_props_fixed_value.py dive_and_rise_prop 10"
   ]
  },
  {
   "cell_type": "code",
   "execution_count": 6,
   "id": "0aef045f-0e50-4e26-a402-ad5cef41f64e",
   "metadata": {},
   "outputs": [
    {
     "name": "stdout",
     "output_type": "stream",
     "text": [
      "wrote property to file: dive_and_rise_prop_10.props\n",
      "wrote property to file: dive_and_rise_prop_20.props\n",
      "wrote property to file: dive_and_rise_prop_30.props\n",
      "wrote property to file: dive_and_rise_prop_40.props\n",
      "wrote property to file: dive_and_rise_prop_50.props\n",
      "wrote property to file: dive_and_rise_prop_60.props\n",
      "wrote property to file: dive_and_rise_prop_70.props\n",
      "wrote property to file: dive_and_rise_prop_80.props\n",
      "wrote property to file: dive_and_rise_prop_90.props\n",
      "wrote property to file: dive_and_rise_prop_100.props\n"
     ]
    }
   ],
   "source": [
    "# ranges over from 10 to 100 with an increment of 10\n",
    "for value in range(10, 101, 10):\n",
    "    # Use an f-string to embed the 'value' into the shell command\n",
    "    ! python ./dive_and_rise_props_fixed_value.py dive_and_rise_prop {value}"
   ]
  },
  {
   "cell_type": "code",
   "execution_count": 8,
   "id": "61789824-60b6-46cc-80a6-02a7f3d7e583",
   "metadata": {},
   "outputs": [
    {
     "name": "stdout",
     "output_type": "stream",
     "text": [
      "wrote property to file: dive_and_rise_prop_2.props\n",
      "wrote property to file: dive_and_rise_prop_3.props\n",
      "wrote property to file: dive_and_rise_prop_4.props\n",
      "wrote property to file: dive_and_rise_prop_5.props\n",
      "wrote property to file: dive_and_rise_prop_6.props\n",
      "wrote property to file: dive_and_rise_prop_7.props\n",
      "wrote property to file: dive_and_rise_prop_8.props\n",
      "wrote property to file: dive_and_rise_prop_9.props\n"
     ]
    }
   ],
   "source": [
    "# ranges over from 1 to 6 with an increment of 10\n",
    "for value in range(2,10):\n",
    "    # Use an f-string to embed the 'value' into the shell command\n",
    "    ! python ./dive_and_rise_props_fixed_value.py dive_and_rise_prop {value}"
   ]
  },
  {
   "cell_type": "code",
   "execution_count": null,
   "id": "cd88361c-02e1-4bc8-b94a-06b636500bf0",
   "metadata": {},
   "outputs": [],
   "source": []
  }
 ],
 "metadata": {
  "kernelspec": {
   "display_name": "Python 3 (ipykernel)",
   "language": "python",
   "name": "python3"
  },
  "language_info": {
   "codemirror_mode": {
    "name": "ipython",
    "version": 3
   },
   "file_extension": ".py",
   "mimetype": "text/x-python",
   "name": "python",
   "nbconvert_exporter": "python",
   "pygments_lexer": "ipython3",
   "version": "3.8.10"
  }
 },
 "nbformat": 4,
 "nbformat_minor": 5
}
